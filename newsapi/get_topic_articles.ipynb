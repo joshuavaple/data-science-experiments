{
 "cells": [
  {
   "cell_type": "code",
   "execution_count": 4,
   "metadata": {},
   "outputs": [],
   "source": [
    "from eventregistry import EventRegistry, TopicPage\n",
    "from dotenv import load_dotenv\n",
    "import os\n",
    "\n",
    "load_dotenv()\n",
    "EVENT_REGISTRY_API_KEY = os.getenv(\"EVENT_REGISTRY_API_KEY\")\n",
    "er = EventRegistry(apiKey = EVENT_REGISTRY_API_KEY)"
   ]
  },
  {
   "cell_type": "code",
   "execution_count": 5,
   "metadata": {},
   "outputs": [],
   "source": [
    "topic_page = TopicPage(er)\n",
    "topic_page.loadTopicPageFromER(\"be2534a5-e15e-42d8-b939-dcba8269a85c\")"
   ]
  },
  {
   "cell_type": "code",
   "execution_count": null,
   "metadata": {},
   "outputs": [],
   "source": [
    "\n",
    "# retrieve the first page of 100 results. To get the next page, call with page=2, ...\n",
    "res = topic_page.getArticles(page = 1)\n",
    "for art in res.get(\"articles\", {}).get(\"results\", []):\n",
    "    print(art)"
   ]
  }
 ],
 "metadata": {
  "kernelspec": {
   "display_name": "Python 3",
   "language": "python",
   "name": "python3"
  },
  "language_info": {
   "codemirror_mode": {
    "name": "ipython",
    "version": 3
   },
   "file_extension": ".py",
   "mimetype": "text/x-python",
   "name": "python",
   "nbconvert_exporter": "python",
   "pygments_lexer": "ipython3",
   "version": "3.11.7"
  }
 },
 "nbformat": 4,
 "nbformat_minor": 2
}
