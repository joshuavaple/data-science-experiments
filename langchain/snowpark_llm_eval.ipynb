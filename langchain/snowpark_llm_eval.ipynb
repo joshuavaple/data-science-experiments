{
 "cells": [
  {
   "cell_type": "code",
   "execution_count": 1,
   "metadata": {},
   "outputs": [],
   "source": [
    "import os\n",
    "import pandas as pd\n",
    "from langchain_core.output_parsers.pydantic import PydanticOutputParser\n",
    "from typing import Any, List, Mapping, Optional\n",
    "from langchain_core.pydantic_v1 import BaseModel, Field\n",
    "\n",
    "class NewsInfoLenient(BaseModel, extra=\"allow\"):\n",
    "    \"\"\"Information extracted from the text.\"\"\"\n",
    "    title: str = Field(\n",
    "        description=\"One sentence summary of the article of maximum 200 characters, prefereably with the event, location and time information.\"\n",
    "    )\n",
    "    summary: str = Field(\n",
    "        description=\"A short summary of the text, maximum 200 words\"\n",
    "    )\n",
    "    impact: str = Field( \n",
    "        description=\"Answer only Yes or No to this question: does this event negatively impact a supply chain network (the movement of people and goods)? Answer this by following the following reasoning steps: \\\n",
    "            If the event can directly impact a supply chain network in a negative way, such as causing facility damage or traffic stopage, etc., then Yes. \\\n",
    "            Else if it can potentially disrupt the normal operations a supply chain network, such as social-political disruptions, extreme weathers, or other disruptions, etc., then asnwer Yes. \\\n",
    "            If not or uncertain, such as general knowledge, good news, individual personnel events, project annoucement etc., answer No\",\n",
    "        enum=[\"Yes\", \"No\"]\n",
    "    )\n",
    "    reasoning: str = Field( \n",
    "        description=\"The reasoning behind your impact assessment based on the impact reasoning step above. Explain why you think the event will (Yes) or will not (No) impact the supply chain network.\"\n",
    "    )\n",
    "    vessel_name: Optional[list[str]] = Field(\n",
    "        default=[\"\"], \n",
    "        description=\"The names of the marine vessels or container ships mentioned in the text, if any.\"\n",
    "    )\n",
    "\n",
    "class NewsInfoStrict(BaseModel, extra=\"forbid\"):\n",
    "    \"\"\"Information extracted from the text.\"\"\"\n",
    "    title: str = Field(\n",
    "        description=\"One sentence summary of the article of maximum 200 characters, prefereably with the event, location and time information.\"\n",
    "    )\n",
    "    summary: str = Field(\n",
    "        description=\"A short summary of the text, maximum 200 words\"\n",
    "    )\n",
    "    impact: str = Field( \n",
    "        description=\"Answer only Yes or No to this question: does this event negatively impact a supply chain network (the movement of people and goods)? Answer this by following the following reasoning steps: \\\n",
    "            If the event can directly impact a supply chain network in a negative way, such as causing facility damage or traffic stopage, etc., then Yes. \\\n",
    "            Else if it can potentially disrupt the normal operations a supply chain network, such as social-political disruptions, extreme weathers, or other disruptions, etc., then asnwer Yes. \\\n",
    "            If not or uncertain, such as general knowledge, good news, individual personnel events, project annoucement etc., answer No\",\n",
    "        enum=[\"Yes\", \"No\"]\n",
    "    )\n",
    "    reasoning: str = Field( \n",
    "        description=\"The reasoning behind your impact assessment based on the impact reasoning step above. Explain why you think the event will (Yes) or will not (No) impact the supply chain network.\"\n",
    "    )\n",
    "    vessel_name: Optional[list[str]] = Field(\n",
    "        default=[\"\"], \n",
    "        description=\"The names of the marine vessels or container ships mentioned in the text, if any.\"\n",
    "    )"
   ]
  },
  {
   "cell_type": "code",
   "execution_count": 33,
   "metadata": {},
   "outputs": [],
   "source": [
    "def validate_json(content: str):\n",
    "    \"\"\"Check if the json is valid (free from out-of-schema hallucination)\"\"\"\n",
    "    try:\n",
    "        eval(content)\n",
    "        return 1\n",
    "    except Exception as e:\n",
    "        return 0\n",
    "\n",
    "def validate_schema(content: str, pydantic_model):\n",
    "    \"\"\"Check if the output schema is exactly the same as the pydantic model (free from in-schema hallucination)\n",
    "    This will also check if JSON is valid\"\"\"\n",
    "    try: \n",
    "        parser = PydanticOutputParser(pydantic_object=pydantic_model)\n",
    "        content_dict = parser.parse(content).dict()\n",
    "        if set(pydantic_model.__fields__.keys()) == set(content_dict.keys()):\n",
    "            return 1\n",
    "        else:\n",
    "            return 0\n",
    "    except Exception as e:\n",
    "        return 0"
   ]
  },
  {
   "cell_type": "code",
   "execution_count": 3,
   "metadata": {},
   "outputs": [],
   "source": [
    "content_invalid_json = \"\"\"\n",
    "{\n",
    "\"title\": \"Encephalitis Cases on the Rise in Lo Cai, Vietnam\",\n",
    "\"summary\": \"In Lo Cai, Vietnam, there has been an increase in encephalitis cases this summer, with 16 children treated at the Emergency Intensive Care Unit under Lo Cai Obstetrics and Paediatric Hospital since April. The article advises parents to be vigilant and detect early signs of encephalitis in their children, and provides information on the causes, symptoms, and prevention of the disease.\",\n",
    "\"impact\": \"Yes\",\n",
    "\"reasoning\": \"The article mentions that encephalitis can negatively impact supply chain networks by disrupting the normal operations of a supply chain network, such as social-political disruptions, extreme weathers, or other disruptions. The increase in encephalitis cases in Lo Cai could potentially disrupt the supply chain network in the area, especially if it spreads to other regions.\",\n",
    "\"vessel_name\": []\n",
    "}\n",
    "\n",
    "The reasoning behind the impact assessment is that encephalitis can cause disruptions in the supply chain network by affecting the normal operations of the network, such as social-political disruptions, extreme weathers, or other disruptions. The increase in encephalitis cases in Lo Cai could potentially disrupt the supply chain network in the area, especially if it spreads to other regions. However, since the article does not mention any specific impact on the supply chain network, the impact assessment is based on the potential for disruption.\n",
    "\n",
    "There are no marine vessels or container ships mentioned in the text, so the list of vessel names is empty.\n",
    "\"\"\"\n",
    "\n",
    "content_valid_json = \"\"\"\n",
    "{\n",
    "\"title\": \"Encephalitis Cases on the Rise in Lo Cai, Vietnam\",\n",
    "\"one_line_summary\": \"summary\",\n",
    "\"summary\": \"In Lo Cai, Vietnam, there has been an increase in encephalitis cases this summer, with 16 children treated at the Emergency Intensive Care Unit under Lo Cai Obstetrics and Paediatric Hospital since April. The article advises parents to be vigilant and detect early signs of encephalitis in their children, and provides information on the causes, symptoms, and prevention of the disease.\",\n",
    "\"impact\": \"Yes\",\n",
    "\"reasoning\": \"The article mentions that encephalitis can negatively impact supply chain networks by disrupting the normal operations of a supply chain network, such as social-political disruptions, extreme weathers, or other disruptions. The increase in encephalitis cases in Lo Cai could potentially disrupt the supply chain network in the area, especially if it spreads to other regions.\",\n",
    "\"vessel_name\": []\n",
    "}\n",
    "\"\"\""
   ]
  },
  {
   "cell_type": "code",
   "execution_count": 4,
   "metadata": {},
   "outputs": [
    {
     "name": "stdout",
     "output_type": "stream",
     "text": [
      "0\n",
      "0\n"
     ]
    }
   ],
   "source": [
    "print(validate_schema(content_valid_json, NewsInfoLenient))\n",
    "print(validate_json(content_invalid_json))"
   ]
  },
  {
   "cell_type": "markdown",
   "metadata": {},
   "source": [
    "## Import LLM responses"
   ]
  },
  {
   "cell_type": "code",
   "execution_count": 45,
   "metadata": {},
   "outputs": [
    {
     "data": {
      "text/plain": [
       "['llm_evaluation_gemma-7b.csv',\n",
       " 'llm_evaluation_gpt-3.5-turbo-0125.csv',\n",
       " 'llm_evaluation_llama2-70b-chat.csv',\n",
       " 'llm_evaluation_mistral-7b.csv',\n",
       " 'llm_evaluation_mixtral-8x7b.csv']"
      ]
     },
     "execution_count": 45,
     "metadata": {},
     "output_type": "execute_result"
    }
   ],
   "source": [
    "parent_dir = './outputs/snowpark_llm/function_calling/'\n",
    "files = os.listdir(parent_dir)\n",
    "files = [f for f in files if f.endswith('.csv')]\n",
    "files"
   ]
  },
  {
   "cell_type": "code",
   "execution_count": 46,
   "metadata": {},
   "outputs": [],
   "source": [
    "for file in files:\n",
    "    df = pd.read_csv(parent_dir + file)\n",
    "    df['valid_json'] = df['raw_response'].apply(lambda x: validate_json(x))\n",
    "    df['valid_schema'] = df['raw_response'].apply(lambda x: validate_schema(x, NewsInfoLenient))\n",
    "    df.to_csv(parent_dir + '/eval/' + file, index=False)"
   ]
  }
 ],
 "metadata": {
  "kernelspec": {
   "display_name": "langchain-demo-env",
   "language": "python",
   "name": "python3"
  },
  "language_info": {
   "codemirror_mode": {
    "name": "ipython",
    "version": 3
   },
   "file_extension": ".py",
   "mimetype": "text/x-python",
   "name": "python",
   "nbconvert_exporter": "python",
   "pygments_lexer": "ipython3",
   "version": "3.11.7"
  }
 },
 "nbformat": 4,
 "nbformat_minor": 2
}
