{
 "cells": [
  {
   "cell_type": "code",
   "execution_count": 1,
   "metadata": {},
   "outputs": [],
   "source": [
    "from langchain_core.prompts import PromptTemplate, ChatPromptTemplate\n",
    "from langchain_core.tools import tool\n",
    "from langchain_core.pydantic_v1 import BaseModel, Field\n",
    "from langchain_core.messages import HumanMessage, ToolMessage\n",
    "from langchain_core.output_parsers.openai_tools import PydanticToolsParser\n",
    "from langchain_core.output_parsers.pydantic import PydanticOutputParser\n",
    "from langchain_core.language_models.llms import LLM\n",
    "from langchain_core.output_parsers import JsonOutputParser\n",
    "from snowflake.snowpark import Session\n",
    "from typing import Any, List, Mapping, Optional\n",
    "from langchain_core.callbacks.manager import CallbackManagerForLLMRun\n",
    "from langchain_openai import ChatOpenAI\n",
    "from langchain_mistralai.chat_models import ChatMistralAI\n",
    "import pandas as pd\n",
    "import json\n",
    "from dotenv import load_dotenv\n",
    "from typing import Optional\n",
    "import os \n",
    "import tiktoken\n",
    "\n",
    "load_dotenv()\n",
    "SNOWFLAKE_PASSWORD = os.getenv(\"SNOWFLAKE_PASSWORD\")\n",
    "# OPENAI_API_KEY = os.getenv(\"OPEN_AI_API_KEY\")\n",
    "# MISTRAL_API_KEY = os.getenv(\"MISTRAL_SMALL_API_KEY\")"
   ]
  },
  {
   "cell_type": "code",
   "execution_count": 2,
   "metadata": {},
   "outputs": [],
   "source": [
    "connection_parameters = {\n",
    "    \"account\": \"khhmubi-uzb27668\",\n",
    "    \"user\": \"JOSHUALESMU\",\n",
    "    \"password\": SNOWFLAKE_PASSWORD,\n",
    "    \"role\": \"ACCOUNTADMIN\", \n",
    "    \"warehouse\": \"COMPUTE_WH\",  # optional\n",
    "    } \n",
    "sp_session = Session.builder.configs(connection_parameters).create()  "
   ]
  },
  {
   "cell_type": "code",
   "execution_count": 3,
   "metadata": {},
   "outputs": [],
   "source": [
    "def num_tokens_from_string(string: str, model_name: str) -> int:\n",
    "    \"\"\"Returns the number of tokens in a text string.\"\"\"\n",
    "    encoding = tiktoken.encoding_for_model(model_name)\n",
    "    num_tokens = len(encoding.encode(string))\n",
    "    return num_tokens"
   ]
  },
  {
   "cell_type": "code",
   "execution_count": 4,
   "metadata": {},
   "outputs": [
    {
     "name": "stdout",
     "output_type": "stream",
     "text": [
      "mistral-7b\n",
      "mixtral-8x7b\n"
     ]
    }
   ],
   "source": [
    "class SnowflakeCortexLLM(LLM):\n",
    "\n",
    "    sp_session: Session = None\n",
    "    \"\"\"Snowpark Session class instance, set before invoking the LLM to authenticate to an appropriate Snowflake account with Cortex LLMs provisioned.\"\"\"\n",
    "\n",
    "    model: str = 'mistral-7b'\n",
    "    \"\"\"The Snowflake cortex hosted LLM model name, default to `mistral-7b`. Refer to doc for other options.\"\"\"\n",
    "\n",
    "    cortex_function: str = 'complete'\n",
    "    \"\"\"The cortex function to use, defaulted to complete. for other types refer to doc\"\"\"\n",
    "\n",
    "    llm_type: str = 'snowflake-cortex'\n",
    "    \"\"\"The type of LLM, defaulted to snowflake-cortex, for logging purposes only.\"\"\"\n",
    "\n",
    "    @property\n",
    "    def _llm_type(self) -> str:\n",
    "        return \"snowflake_cortex\"\n",
    "\n",
    "    def _call(\n",
    "        self,\n",
    "        prompt: str,\n",
    "        stop: Optional[List[str]] = None,\n",
    "        run_manager: Optional[CallbackManagerForLLMRun] = None,\n",
    "        **kwargs: Any,\n",
    "    ) -> str:\n",
    "        \"\"\"Adapt the Snowflake Cortex LLM SQL-based API to this Python interface.\n",
    "        Modify this accordingly to the available Snowflake Cortex LLM API.\n",
    "        For example, this implementation is based on the following snowflake SQL command: \n",
    "        `SELECT SNOWFLAKE.CORTEX.COMPLETE('<model_name>', '<prompt_text>');`\n",
    "        \"\"\"    \n",
    "        prompt_text = prompt\n",
    "        # simple version\n",
    "        # sql_statement = f'''select snowflake.cortex.{self.cortex_function}('{self.model}','{prompt_text}') as llm_reponse;'''\n",
    "        # version with parameters and returns the token counts\n",
    "        # use double {{}} to escape the curly braces in the f-string\n",
    "        sql_statement = f\"\"\" \n",
    "            SELECT SNOWFLAKE.CORTEX.{self.cortex_function}\n",
    "            (\n",
    "                '{self.model}',\n",
    "                [\n",
    "                    {{\n",
    "                        'role': 'user',\n",
    "                        'content': '{prompt_text}'\n",
    "                    }}\n",
    "                ],\n",
    "                {{\n",
    "                    'temperature': 0\n",
    "                }}\n",
    "            )\n",
    "            AS LLM_RESPONSE;            \n",
    "            \"\"\"\n",
    "        l_rows = self.sp_session.sql(sql_statement).collect()\n",
    "        llm_response = l_rows[0]['LLM_RESPONSE'] # only 1 row is expected from the SQL statement as it is applied to 1 prompt\n",
    "        return llm_response\n",
    "\n",
    "    @property\n",
    "    def _identifying_params(self) -> Mapping[str, Any]:\n",
    "        \"\"\"Get the identifying parameters.\"\"\"\n",
    "        return {\n",
    "            \"model\": self.model\n",
    "            ,\"cortex_function\" : self.cortex_function\n",
    "            ,\"snowpark_session\": self.sp_session.session_id\n",
    "        }\n",
    "    @property\n",
    "    def _llm_type(cls) -> str:\n",
    "        \"\"\"Get the type of language model used by this chat model. Used for logging purposes only.\"\"\"\n",
    "        return cls.llm_type\n",
    "\n",
    "sf_llm = SnowflakeCortexLLM(sp_session=sp_session)\n",
    "print(sf_llm.model)\n",
    "\n",
    "# set a different model from the default\n",
    "sf_llm = SnowflakeCortexLLM(sp_session=sp_session, model='mixtral-8x7b')\n",
    "print(sf_llm.model)"
   ]
  },
  {
   "cell_type": "code",
   "execution_count": 9,
   "metadata": {},
   "outputs": [],
   "source": [
    "# df = pd.read_csv('./inputs/sample_news_api_ml_100rows.csv')\n",
    "# df_wkwebster = pd.read_csv('./inputs/sample_news_api_ml_wkwebster_2.csv')\n",
    "# body_cleaned = df['BODY_CLEANED'].to_list()[:90] + df_wkwebster['BODY_CLEANED'].to_list()[:10]\n",
    "# body_cleaned = [body.replace(\"'\", \"\\\\'\") for body in body_cleaned]"
   ]
  },
  {
   "cell_type": "markdown",
   "metadata": {},
   "source": [
    "## 1. Simple Examples"
   ]
  },
  {
   "cell_type": "code",
   "execution_count": 5,
   "metadata": {},
   "outputs": [],
   "source": [
    "# Method 1: define the schema for custom tools using the @tool decorator on Python functions\n",
    "@tool\n",
    "def add(a: int, b: int) -> int:\n",
    "    \"\"\"Adds a and b.\n",
    "\n",
    "    Args:\n",
    "        a: first int\n",
    "        b: second int\n",
    "    \"\"\"\n",
    "    return a + b\n",
    "\n",
    "\n",
    "@tool\n",
    "def multiply(a: int, b: int) -> int:\n",
    "    \"\"\"Multiplies a and b.\n",
    "\n",
    "    Args:\n",
    "        a: first int\n",
    "        b: second int\n",
    "    \"\"\"\n",
    "    return a * b\n",
    "\n",
    "\n",
    "tools = [add, multiply]\n",
    "\n",
    "# Method 2: define the schema using Pydantic. Pydantic is useful when your tool inputs are more complex\n",
    "class add(BaseModel):\n",
    "    \"\"\"Add two integers together.\"\"\"\n",
    "\n",
    "    a: int = Field(..., description=\"First integer\")\n",
    "    b: int = Field(..., description=\"Second integer\")\n",
    "\n",
    "\n",
    "class multiply(BaseModel):\n",
    "    \"\"\"Multiply two integers together.\"\"\"\n",
    "\n",
    "    a: int = Field(..., description=\"First integer\")\n",
    "    b: int = Field(..., description=\"Second integer\")\n",
    "\n",
    "\n",
    "tools = [add, multiply]\n"
   ]
  },
  {
   "cell_type": "code",
   "execution_count": 51,
   "metadata": {},
   "outputs": [],
   "source": [
    "# After defining the tools, we can bind them to the LLM:\n",
    "llm = ChatOpenAI(model=\"gpt-3.5-turbo-0125\", temperature=0)\n",
    "llm_with_tools = llm.bind_tools(tools)"
   ]
  },
  {
   "cell_type": "markdown",
   "metadata": {},
   "source": [
    "- When you just use bind_tools(tools), the model can choose whether to return one tool call, multiple tool calls, or no tool calls at all.\n",
    "- Some models support a tool_choice parameter that gives you some ability to force the model to call a tool.\n",
    "- For models that support this, you can pass in the name of the tool you want the model to always call tool_choice=\"xyz_tool_name\". \n",
    "- Or you can pass in tool_choice=\"any\" to force the model to call at least one tool, without specifying which tool specifically.\n",
    "    - Currently tool_choice=\"any\" functionality is supported by OpenAI, MistralAI, FireworksAI, and Groq.\n",
    "    - Currently Anthropic does not support tool_choice at all."
   ]
  },
  {
   "cell_type": "code",
   "execution_count": 13,
   "metadata": {},
   "outputs": [],
   "source": [
    "# # If we wanted our model to always call the multiply tool we could do:\n",
    "# always_multiply_llm = llm.bind_tools([multiply], tool_choice=\"multiply\")\n",
    "\n",
    "# # And if we wanted it to always call at least one of add or multiply, we could do:\n",
    "# always_call_tool_llm = llm.bind_tools([add, multiply], tool_choice=\"any\")"
   ]
  },
  {
   "cell_type": "markdown",
   "metadata": {},
   "source": [
    "If tool calls are included in a LLM response, they are attached to the corresponding AIMessage or AIMessageChunk (when streaming) as a list of ToolCall objects in the `.tool_calls` attribute."
   ]
  },
  {
   "cell_type": "code",
   "execution_count": 7,
   "metadata": {},
   "outputs": [
    {
     "data": {
      "text/plain": [
       "[{'name': 'multiply',\n",
       "  'args': {'a': 3, 'b': 12},\n",
       "  'id': 'call_BwVtZ7PLznihXqtYQd5N0dlq'},\n",
       " {'name': 'add',\n",
       "  'args': {'a': 11, 'b': 49},\n",
       "  'id': 'call_yNpMPCrxqg1sSKIM2eVXoM06'}]"
      ]
     },
     "execution_count": 7,
     "metadata": {},
     "output_type": "execute_result"
    }
   ],
   "source": [
    "query = \"What is 3 * 12? Also, what is 11 + 49?\"\n",
    "\n",
    "llm_with_tools.invoke(query).tool_calls"
   ]
  },
  {
   "cell_type": "code",
   "execution_count": 8,
   "metadata": {},
   "outputs": [
    {
     "data": {
      "text/plain": [
       "[multiply(a=3, b=12), add(a=11, b=49)]"
      ]
     },
     "execution_count": 8,
     "metadata": {},
     "output_type": "execute_result"
    }
   ],
   "source": [
    "chain = llm_with_tools | PydanticToolsParser(tools=[multiply, add])\n",
    "chain.invoke(query)"
   ]
  },
  {
   "cell_type": "code",
   "execution_count": 9,
   "metadata": {},
   "outputs": [
    {
     "data": {
      "text/plain": [
       "[HumanMessage(content='What is 3 * 12? Also, what is 11 + 49?'),\n",
       " AIMessage(content='', additional_kwargs={'tool_calls': [{'id': 'call_zTPCA6IJ8blahMONg3GKzcuv', 'function': {'arguments': '{\"a\": 3, \"b\": 12}', 'name': 'multiply'}, 'type': 'function'}, {'id': 'call_QenQzEZrKCqW8qreQvLrDGbb', 'function': {'arguments': '{\"a\": 11, \"b\": 49}', 'name': 'add'}, 'type': 'function'}]}, response_metadata={'token_usage': {'completion_tokens': 49, 'prompt_tokens': 144, 'total_tokens': 193}, 'model_name': 'gpt-3.5-turbo-0125', 'system_fingerprint': None, 'finish_reason': 'tool_calls', 'logprobs': None}, id='run-83094e4f-aaa9-439d-a176-9c173e191093-0', tool_calls=[{'name': 'multiply', 'args': {'a': 3, 'b': 12}, 'id': 'call_zTPCA6IJ8blahMONg3GKzcuv'}, {'name': 'add', 'args': {'a': 11, 'b': 49}, 'id': 'call_QenQzEZrKCqW8qreQvLrDGbb'}]),\n",
       " ToolMessage(content='36', tool_call_id='call_zTPCA6IJ8blahMONg3GKzcuv'),\n",
       " ToolMessage(content='60', tool_call_id='call_QenQzEZrKCqW8qreQvLrDGbb')]"
      ]
     },
     "execution_count": 9,
     "metadata": {},
     "output_type": "execute_result"
    }
   ],
   "source": [
    "# alternatively, the @tool decorator can be used instead of the Pydantic model\n",
    "\n",
    "@tool\n",
    "def add(a: int, b: int) -> int:\n",
    "    \"\"\"Adds a and b.\n",
    "\n",
    "    Args:\n",
    "        a: first int\n",
    "        b: second int\n",
    "    \"\"\"\n",
    "    return a + b\n",
    "\n",
    "\n",
    "@tool\n",
    "def multiply(a: int, b: int) -> int:\n",
    "    \"\"\"Multiplies a and b.\n",
    "\n",
    "    Args:\n",
    "        a: first int\n",
    "        b: second int\n",
    "    \"\"\"\n",
    "    return a * b\n",
    "\n",
    "\n",
    "tools = [add, multiply]\n",
    "llm_with_tools = llm.bind_tools(tools)\n",
    "\n",
    "messages = [HumanMessage(query)]\n",
    "ai_msg = llm_with_tools.invoke(messages)\n",
    "messages.append(ai_msg)\n",
    "\n",
    "for tool_call in ai_msg.tool_calls:\n",
    "    selected_tool = {\"add\": add, \"multiply\": multiply}[tool_call[\"name\"].lower()]\n",
    "    tool_output = selected_tool.invoke(tool_call[\"args\"])\n",
    "    messages.append(ToolMessage(tool_output, tool_call_id=tool_call[\"id\"]))\n",
    "\n",
    "messages"
   ]
  },
  {
   "cell_type": "code",
   "execution_count": 10,
   "metadata": {},
   "outputs": [
    {
     "data": {
      "text/plain": [
       "AIMessage(content='3 * 12 is 36 and 11 + 49 is 60.', response_metadata={'token_usage': {'completion_tokens': 18, 'prompt_tokens': 209, 'total_tokens': 227}, 'model_name': 'gpt-3.5-turbo-0125', 'system_fingerprint': None, 'finish_reason': 'stop', 'logprobs': None}, id='run-6bb8e55a-6b7a-418d-af13-3b4855a5cfe1-0')"
      ]
     },
     "execution_count": 10,
     "metadata": {},
     "output_type": "execute_result"
    }
   ],
   "source": [
    "llm_with_tools.invoke(messages)"
   ]
  },
  {
   "cell_type": "code",
   "execution_count": 11,
   "metadata": {},
   "outputs": [
    {
     "data": {
      "text/plain": [
       "[HumanMessage(content='What is 3 * 12? Also, what is 11 + 49?'),\n",
       " AIMessage(content='', additional_kwargs={'tool_calls': [{'id': 'call_OWjEndPeN1Rt5NTzlqpjLu74', 'function': {'arguments': '{\"a\": 3, \"b\": 12}', 'name': 'multiply'}, 'type': 'function'}, {'id': 'call_Bl7HBNKU1YqxbIiP5fOp8cmQ', 'function': {'arguments': '{\"a\": 11, \"b\": 49}', 'name': 'add'}, 'type': 'function'}]}, response_metadata={'token_usage': {'completion_tokens': 49, 'prompt_tokens': 105, 'total_tokens': 154}, 'model_name': 'gpt-3.5-turbo-0125', 'system_fingerprint': None, 'finish_reason': 'tool_calls', 'logprobs': None}, id='run-65f0d4d9-279f-41a4-b583-7f7bd273bb7c-0', tool_calls=[{'name': 'multiply', 'args': {'a': 3, 'b': 12}, 'id': 'call_OWjEndPeN1Rt5NTzlqpjLu74'}, {'name': 'add', 'args': {'a': 11, 'b': 49}, 'id': 'call_Bl7HBNKU1YqxbIiP5fOp8cmQ'}])]"
      ]
     },
     "execution_count": 11,
     "metadata": {},
     "output_type": "execute_result"
    }
   ],
   "source": [
    "# Method 2: define the schema using Pydantic. Pydantic is useful when your tool inputs are more complex\n",
    "class add(BaseModel):\n",
    "    \"\"\"Add two integers together.\"\"\"\n",
    "\n",
    "    a: int = Field(..., description=\"First integer\")\n",
    "    b: int = Field(..., description=\"Second integer\")\n",
    "\n",
    "\n",
    "class multiply(BaseModel):\n",
    "    \"\"\"Multiply two integers together.\"\"\"\n",
    "\n",
    "    a: int = Field(..., description=\"First integer\")\n",
    "    b: int = Field(..., description=\"Second integer\")\n",
    "\n",
    "\n",
    "tools = [add, multiply]\n",
    "llm_with_tools = llm.bind_tools(tools)\n",
    "messages = [HumanMessage(query)]\n",
    "ai_msg = llm_with_tools.invoke(messages)\n",
    "messages.append(ai_msg)\n",
    "messages\n",
    "# llm_with_tools.invoke(messages)"
   ]
  },
  {
   "cell_type": "markdown",
   "metadata": {},
   "source": [
    "## 2 Extract Structured Output"
   ]
  },
  {
   "cell_type": "markdown",
   "metadata": {},
   "source": [
    "### 0. Setup Pydantic model, tools, sample data and prompt templates"
   ]
  },
  {
   "cell_type": "code",
   "execution_count": 5,
   "metadata": {},
   "outputs": [],
   "source": [
    "class NewsInfo(BaseModel):\n",
    "    \"\"\"Information extracted from the text.\"\"\"\n",
    "    title: str = Field(\n",
    "        description=\"One sentence summary of the article of maximum 200 characters, prefereably with the event, location and time information.\"\n",
    "    )\n",
    "    summary: str = Field(\n",
    "        description=\"A short summary of the text, maximum 200 words\"\n",
    "    )\n",
    "    impact: str = Field( \n",
    "        description=\"Answer only Yes or No to this question: does this event negatively impact a supply chain network (the movement of people and goods)? Answer this by following the following reasoning steps: \\\n",
    "            If the event can directly impact a supply chain network in a negative way, such as causing facility damage or traffic stopage, etc., then Yes. \\\n",
    "            Else if it can potentially disrupt the normal operations a supply chain network, such as social-political disruptions, extreme weathers, or other disruptions, etc., then asnwer Yes. \\\n",
    "            If not or uncertain, such as general knowledge, good news, individual personnel events, project annoucement etc., answer No\",\n",
    "        enum=[\"Yes\", \"No\"]\n",
    "    )\n",
    "    reasoning: str = Field( \n",
    "        description=\"The reasoning behind your impact assessment based on the impact reasoning step above. Explain why you think the event will (Yes) or will not (No) impact the supply chain network.\"\n",
    "    )\n",
    "    vessel_name: Optional[list[str]] = Field(\n",
    "        default=[\"\"], \n",
    "        description=\"The names of the marine vessels or container ships mentioned in the text, if any.\"\n",
    "    )\n",
    "\n",
    "sample_text = \"\"\"\n",
    "Officials involved in the clear up of the bridge collapse at Baltimore Port in the US have said the vessel that remains lodged among debris will be removed by 10 May.\n",
    "While some ships have been able to navigate in and out of the port through a limited access channel opened up by the coastguard in the middle of the collapsed bridge, the Dali containership has remained in the place where it collided with the Francis Scott Key Bridge since the incident took place at the major port in Maryland on 26 March.\n",
    "Ahead of the planned removal of the ship, a 35ft deep Fort McHenry Limited Access Channel that had been open for four days and allowed the first container ship to return to the port closed on 29 April, though the three other temporary channels, which are 20, 14 and 11ft deep, will remain open.\n",
    "Maryland Governor Wes Moore highlighted some of the difficulties that have been faced by the team attempting to clear the bridge debris and Dali vessel.\n",
    "\"\"\"\n",
    "\n",
    "pydantic_parser = PydanticOutputParser(pydantic_object=NewsInfo)\n",
    "tools = [NewsInfo]"
   ]
  },
  {
   "cell_type": "markdown",
   "metadata": {},
   "source": [
    "### 1. Tools and tool binding"
   ]
  },
  {
   "cell_type": "markdown",
   "metadata": {},
   "source": [
    "- https://cookbook.openai.com/examples/how_to_call_functions_with_chat_models\n",
    "- https://docs.mistral.ai/capabilities/function_calling/"
   ]
  },
  {
   "cell_type": "code",
   "execution_count": 98,
   "metadata": {},
   "outputs": [
    {
     "name": "stdout",
     "output_type": "stream",
     "text": [
      "{'type': 'function', 'function': {'name': 'NewsInfo', 'description': 'Information extracted from the text.', 'parameters': {'type': 'object', 'properties': {'title': {'description': 'One sentence summary of the article of maximum 200 characters, prefereably with the event, location and time information.', 'type': 'string'}, 'summary': {'description': 'A short summary of the text, maximum 200 words', 'type': 'string'}, 'impact': {'description': 'Answer only Yes or No to this question: does this event negatively impact a supply chain network (the movement of people and goods)? Answer this by following the following reasoning steps:             If the event can directly impact a supply chain network in a negative way, such as causing facility damage or traffic stopage, etc., then Yes.             Else if it can potentially disrupt the normal operations a supply chain network, such as social-political disruptions, extreme weathers, or other disruptions, etc., then asnwer Yes.             If not or uncertain, such as general knowledge, good news, individual personnel events, project annoucement etc., answer No', 'enum': ['Yes', 'No'], 'type': 'string'}, 'reasoning': {'description': 'The reasoning behind your impact assessment based on the impact reasoning step above. Explain why you think the event will (Yes) or will not (No) impact the supply chain network.', 'type': 'string'}, 'vessel_name': {'description': 'The names of the marine vessels or container ships mentioned in the text, if any.', 'default': [''], 'type': 'array', 'items': {'type': 'string'}}}, 'required': ['title', 'summary', 'impact', 'reasoning']}}}\n",
      "\n",
      "{'type': 'function', 'function': {'name': 'NewsInfo', 'description': 'Information extracted from the text.', 'parameters': {'type': 'object', 'properties': {'title': {'description': 'One sentence summary of the article of maximum 200 characters, prefereably with the event, location and time information.', 'type': 'string'}, 'summary': {'description': 'A short summary of the text, maximum 200 words', 'type': 'string'}, 'impact': {'description': 'Answer only Yes or No to this question: does this event negatively impact a supply chain network (the movement of people and goods)? Answer this by following the following reasoning steps:             If the event can directly impact a supply chain network in a negative way, such as causing facility damage or traffic stopage, etc., then Yes.             Else if it can potentially disrupt the normal operations a supply chain network, such as social-political disruptions, extreme weathers, or other disruptions, etc., then asnwer Yes.             If not or uncertain, such as general knowledge, good news, individual personnel events, project annoucement etc., answer No', 'enum': ['Yes', 'No'], 'type': 'string'}, 'reasoning': {'description': 'The reasoning behind your impact assessment based on the impact reasoning step above. Explain why you think the event will (Yes) or will not (No) impact the supply chain network.', 'type': 'string'}, 'vessel_name': {'description': 'The names of the marine vessels or container ships mentioned in the text, if any.', 'default': [''], 'type': 'array', 'items': {'type': 'string'}}}, 'required': ['title', 'summary', 'impact', 'reasoning']}}}\n"
     ]
    }
   ],
   "source": [
    "# Mistral uses the same metadata for tool as OpenAI:\n",
    "# however, the `tool_choice` forcing is different.\n",
    "# for OpenAI, use the `tool_choice` as a dictionary with the key `type` and `function` as the value\n",
    "llm = ChatOpenAI(model=\"gpt-3.5-turbo-0125\", temperature=0)\n",
    "llm_with_tools = llm.bind_tools(tools, tool_choice={\"type\": \"function\", \"function\": {\"name\": tools[0].__name__}}) # use the class name of the only tool\n",
    "print(llm_with_tools.kwargs['tools'][0])\n",
    "print()\n",
    "mistral_llm = ChatMistralAI(model=\"mistral-small-2402\")\n",
    "mistral_llm_with_tools = mistral_llm.bind_tools(tools, tool_choice=\"any\")\n",
    "print(mistral_llm_with_tools.kwargs['tools'][0])"
   ]
  },
  {
   "cell_type": "markdown",
   "metadata": {},
   "source": [
    "#### a. With Direct HumanMessage prompt"
   ]
  },
  {
   "cell_type": "code",
   "execution_count": 99,
   "metadata": {},
   "outputs": [],
   "source": [
    "query = f\"What is the summary, title, impact, reasoning and vessel_name information from the text: {sample_text}\""
   ]
  },
  {
   "cell_type": "code",
   "execution_count": 100,
   "metadata": {},
   "outputs": [
    {
     "data": {
      "text/plain": [
       "{'title': 'Bridge collapse at Baltimore Port: Vessel to be removed by 10 May',\n",
       " 'summary': 'Officials involved in the clear up of the bridge collapse at Baltimore Port in the US have said the vessel that remains lodged among debris will be removed by 10 May. Some ships have been able to navigate through a limited access channel opened by the coastguard, but the Dali containership remains in place since the incident on 26 March. Challenges faced in clearing the bridge debris and vessel.',\n",
       " 'impact': 'Yes',\n",
       " 'reasoning': 'The bridge collapse and the vessel remaining lodged among debris can disrupt the normal operations of the port and potentially impact the supply chain network by causing delays and hindering the movement of goods and vessels.',\n",
       " 'vessel_name': ['Dali containership']}"
      ]
     },
     "execution_count": 100,
     "metadata": {},
     "output_type": "execute_result"
    }
   ],
   "source": [
    "messages = [HumanMessage(query)]\n",
    "llm_response = llm_with_tools.invoke(messages)\n",
    "llm_response.tool_calls[0]['args']"
   ]
  },
  {
   "cell_type": "code",
   "execution_count": 101,
   "metadata": {},
   "outputs": [
    {
     "data": {
      "text/plain": [
       "{'content': '',\n",
       " 'additional_kwargs': {'tool_calls': [{'id': 'call_hJmOd3l7qL3YO05AhHOS3Hgj',\n",
       "    'function': {'arguments': '{\"title\":\"Bridge collapse at Baltimore Port: Vessel to be removed by 10 May\",\"summary\":\"Officials involved in the clear up of the bridge collapse at Baltimore Port in the US have said the vessel that remains lodged among debris will be removed by 10 May. Some ships have been able to navigate through a limited access channel opened by the coastguard, but the Dali containership remains in place since the incident on 26 March. Challenges faced in clearing the bridge debris and vessel.\",\"impact\":\"Yes\",\"reasoning\":\"The bridge collapse and the vessel remaining lodged among debris can disrupt the normal operations of the port and potentially impact the supply chain network by causing delays and hindering the movement of goods and vessels.\",\"vessel_name\":[\"Dali containership\"]}',\n",
       "     'name': 'NewsInfo'},\n",
       "    'type': 'function'}]},\n",
       " 'response_metadata': {'token_usage': {'completion_tokens': 153,\n",
       "   'prompt_tokens': 525,\n",
       "   'total_tokens': 678},\n",
       "  'model_name': 'gpt-3.5-turbo-0125',\n",
       "  'system_fingerprint': None,\n",
       "  'finish_reason': 'stop',\n",
       "  'logprobs': None},\n",
       " 'type': 'ai',\n",
       " 'name': None,\n",
       " 'id': 'run-d78cc57b-1604-4143-ad5d-22f62da967b1-0',\n",
       " 'example': False,\n",
       " 'tool_calls': [{'name': 'NewsInfo',\n",
       "   'args': {'title': 'Bridge collapse at Baltimore Port: Vessel to be removed by 10 May',\n",
       "    'summary': 'Officials involved in the clear up of the bridge collapse at Baltimore Port in the US have said the vessel that remains lodged among debris will be removed by 10 May. Some ships have been able to navigate through a limited access channel opened by the coastguard, but the Dali containership remains in place since the incident on 26 March. Challenges faced in clearing the bridge debris and vessel.',\n",
       "    'impact': 'Yes',\n",
       "    'reasoning': 'The bridge collapse and the vessel remaining lodged among debris can disrupt the normal operations of the port and potentially impact the supply chain network by causing delays and hindering the movement of goods and vessels.',\n",
       "    'vessel_name': ['Dali containership']},\n",
       "   'id': 'call_hJmOd3l7qL3YO05AhHOS3Hgj'}],\n",
       " 'invalid_tool_calls': []}"
      ]
     },
     "execution_count": 101,
     "metadata": {},
     "output_type": "execute_result"
    }
   ],
   "source": [
    "llm_response.__dict__"
   ]
  },
  {
   "cell_type": "code",
   "execution_count": 102,
   "metadata": {},
   "outputs": [
    {
     "data": {
      "text/plain": [
       "{'content': '',\n",
       " 'additional_kwargs': {'tool_calls': [{'id': 'Aj4t5vaSK',\n",
       "    'function': {'name': 'NewsInfo',\n",
       "     'arguments': '{\"title\": \"Dali Containership Removal Scheduled After Baltimore Port Bridge Collapse\", \"summary\": \"The Dali containership, involved in the bridge collapse at Baltimore Port on 26 March, will be removed by 10 May. While some ships have navigated through a limited access channel, the Dali has remained stuck at the collision site. The 35ft deep Fort McHenry Limited Access Channel closed on 29 April, but three other temporary channels remain open. Maryland Governor Wes Moore noted challenges in clearing the bridge debris and the Dali vessel.\", \"impact\": \"Yes\", \"reasoning\": \"The event directly impacts the supply chain network by causing a facility damage (bridge collapse) and disrupting the normal operations of the port (limited access channels and vessel stuck at the collision site).\", \"vessel_name\": [\"Dali\"]}'}}]},\n",
       " 'response_metadata': {'token_usage': {'prompt_tokens': 630,\n",
       "   'total_tokens': 827,\n",
       "   'completion_tokens': 197},\n",
       "  'model': 'mistral-small-2402',\n",
       "  'finish_reason': 'tool_calls'},\n",
       " 'type': 'ai',\n",
       " 'name': None,\n",
       " 'id': 'run-7a8683b3-83ec-4b40-8dda-f8e9a829db24-0',\n",
       " 'example': False,\n",
       " 'tool_calls': [{'name': 'NewsInfo',\n",
       "   'args': {'title': 'Dali Containership Removal Scheduled After Baltimore Port Bridge Collapse',\n",
       "    'summary': 'The Dali containership, involved in the bridge collapse at Baltimore Port on 26 March, will be removed by 10 May. While some ships have navigated through a limited access channel, the Dali has remained stuck at the collision site. The 35ft deep Fort McHenry Limited Access Channel closed on 29 April, but three other temporary channels remain open. Maryland Governor Wes Moore noted challenges in clearing the bridge debris and the Dali vessel.',\n",
       "    'impact': 'Yes',\n",
       "    'reasoning': 'The event directly impacts the supply chain network by causing a facility damage (bridge collapse) and disrupting the normal operations of the port (limited access channels and vessel stuck at the collision site).',\n",
       "    'vessel_name': ['Dali']},\n",
       "   'id': 'Aj4t5vaSK'}],\n",
       " 'invalid_tool_calls': []}"
      ]
     },
     "execution_count": 102,
     "metadata": {},
     "output_type": "execute_result"
    }
   ],
   "source": [
    "mistral_llm_response = mistral_llm_with_tools.invoke(messages)\n",
    "mistral_llm_response.__dict__"
   ]
  },
  {
   "cell_type": "code",
   "execution_count": 103,
   "metadata": {},
   "outputs": [
    {
     "data": {
      "text/plain": [
       "{'title': 'Dali Containership Removal Scheduled After Baltimore Port Bridge Collapse',\n",
       " 'summary': 'The Dali containership, involved in the bridge collapse at Baltimore Port on 26 March, will be removed by 10 May. While some ships have navigated through a limited access channel, the Dali has remained stuck at the collision site. The 35ft deep Fort McHenry Limited Access Channel closed on 29 April, but three other temporary channels remain open. Maryland Governor Wes Moore noted challenges in clearing the bridge debris and the Dali vessel.',\n",
       " 'impact': 'Yes',\n",
       " 'reasoning': 'The event directly impacts the supply chain network by causing a facility damage (bridge collapse) and disrupting the normal operations of the port (limited access channels and vessel stuck at the collision site).',\n",
       " 'vessel_name': ['Dali']}"
      ]
     },
     "execution_count": 103,
     "metadata": {},
     "output_type": "execute_result"
    }
   ],
   "source": [
    "mistral_llm_response.tool_calls[0]['args']"
   ]
  },
  {
   "cell_type": "markdown",
   "metadata": {},
   "source": [
    "#### b. With ChatPromptTemplate prompt"
   ]
  },
  {
   "cell_type": "code",
   "execution_count": 104,
   "metadata": {},
   "outputs": [],
   "source": [
    "chat_prompt = ChatPromptTemplate.from_messages(\n",
    "    [\n",
    "        (\n",
    "            \"system\",\n",
    "            \"You are an expert extraction algorithm, specialized in news analysis.\"\n",
    "            \"Only extract relevant information from the text.\",\n",
    "        ),\n",
    "        (\"human\", \"{user_input}\"),\n",
    "    ]\n",
    ")"
   ]
  },
  {
   "cell_type": "code",
   "execution_count": 119,
   "metadata": {},
   "outputs": [
    {
     "data": {
      "text/plain": [
       "{'content': '',\n",
       " 'additional_kwargs': {'tool_calls': [{'id': 'call_ldoO0qUGIYJkRVB6XEiSuFKo',\n",
       "    'function': {'arguments': '{\"title\":\"Vessel lodged in debris to be removed by 10 May at Baltimore Port after bridge collapse\",\"summary\":\"Officials at Baltimore Port in the US plan to remove the Dali containership lodged among debris by 10 May following a bridge collapse on 26 March. Limited access channels have been opened for some ships to navigate, with temporary channels remaining open as the cleanup continues.\",\"impact\":\"Yes\",\"reasoning\":\"The bridge collapse and the vessel lodged among debris can disrupt the normal operations of the port and the movement of ships, potentially impacting the supply chain network in the area.\"}',\n",
       "     'name': 'NewsInfo'},\n",
       "    'type': 'function'}]},\n",
       " 'response_metadata': {'token_usage': {'completion_tokens': 118,\n",
       "   'prompt_tokens': 527,\n",
       "   'total_tokens': 645},\n",
       "  'model_name': 'gpt-3.5-turbo-0125',\n",
       "  'system_fingerprint': None,\n",
       "  'finish_reason': 'stop',\n",
       "  'logprobs': None},\n",
       " 'type': 'ai',\n",
       " 'name': None,\n",
       " 'id': 'run-bf3e497f-0b31-46e0-9f88-6a09cd92c6af-0',\n",
       " 'example': False,\n",
       " 'tool_calls': [{'name': 'NewsInfo',\n",
       "   'args': {'title': 'Vessel lodged in debris to be removed by 10 May at Baltimore Port after bridge collapse',\n",
       "    'summary': 'Officials at Baltimore Port in the US plan to remove the Dali containership lodged among debris by 10 May following a bridge collapse on 26 March. Limited access channels have been opened for some ships to navigate, with temporary channels remaining open as the cleanup continues.',\n",
       "    'impact': 'Yes',\n",
       "    'reasoning': 'The bridge collapse and the vessel lodged among debris can disrupt the normal operations of the port and the movement of ships, potentially impacting the supply chain network in the area.'},\n",
       "   'id': 'call_ldoO0qUGIYJkRVB6XEiSuFKo'}],\n",
       " 'invalid_tool_calls': []}"
      ]
     },
     "execution_count": 119,
     "metadata": {},
     "output_type": "execute_result"
    }
   ],
   "source": [
    "llm = ChatOpenAI(model=\"gpt-3.5-turbo-0125\", temperature=0)\n",
    "llm_with_tools = llm.bind_tools(tools, tool_choice={\"type\": \"function\", \"function\": {\"name\": tools[0].__name__}})\n",
    "chain = chat_prompt | llm_with_tools\n",
    "llm_response = chain.invoke({\"user_input\": sample_text})\n",
    "llm_response.__dict__"
   ]
  },
  {
   "cell_type": "code",
   "execution_count": 120,
   "metadata": {},
   "outputs": [
    {
     "data": {
      "text/plain": [
       "{'title': 'Vessel lodged in debris to be removed by 10 May at Baltimore Port after bridge collapse',\n",
       " 'summary': 'Officials at Baltimore Port in the US plan to remove the Dali containership lodged among debris by 10 May following a bridge collapse on 26 March. Limited access channels have been opened for some ships to navigate, with temporary channels remaining open as the cleanup continues.',\n",
       " 'impact': 'Yes',\n",
       " 'reasoning': 'The bridge collapse and the vessel lodged among debris can disrupt the normal operations of the port and the movement of ships, potentially impacting the supply chain network in the area.'}"
      ]
     },
     "execution_count": 120,
     "metadata": {},
     "output_type": "execute_result"
    }
   ],
   "source": [
    "llm_response.tool_calls[0]['args']"
   ]
  },
  {
   "cell_type": "code",
   "execution_count": 133,
   "metadata": {},
   "outputs": [
    {
     "name": "stdout",
     "output_type": "stream",
     "text": [
      "Tokens from the prompt: 222\n",
      "Tokens from the tool call: 358\n"
     ]
    }
   ],
   "source": [
    "final_prompt = chat_prompt.format(user_input=sample_text)\n",
    "print(f\"Tokens from the prompt: {llm_with_tools.get_num_tokens(final_prompt)}\")\n",
    "print(f\"Tokens from the tool call: {llm_with_tools.get_num_tokens(str(llm_with_tools.kwargs['tools'][0]['function']))}\")"
   ]
  },
  {
   "cell_type": "code",
   "execution_count": 107,
   "metadata": {},
   "outputs": [
    {
     "data": {
      "text/plain": [
       "{'content': '',\n",
       " 'additional_kwargs': {'tool_calls': [{'id': 'YzLW7zt5d',\n",
       "    'function': {'name': 'NewsInfo',\n",
       "     'arguments': '{\"title\": \"Vessel Stuck in Baltimore Port Bridge Collapse to be Removed by 10 May\", \"summary\": \"The Dali containership, stuck in the bridge collapse at Baltimore Port since 26 March, will be removed by 10 May, according to officials. Although some ships have been able to navigate through a limited access channel, the 35ft deep Fort McHenry Limited Access Channel closed on 29 April, while three other temporary channels remain open. Maryland Governor Wes Moore highlighted the challenges faced by the clear-up team.\", \"impact\": \"Yes\", \"reasoning\": \"The bridge collapse and the stuck vessel directly impact the supply chain network by causing facility damage and limiting the movement of goods through the port. The closure of the 35ft deep channel further exacerbates the situation by restricting the access of larger vessels.\", \"vessel_name\": [\"Dali\"]}'}}]},\n",
       " 'response_metadata': {'token_usage': {'prompt_tokens': 633,\n",
       "   'total_tokens': 842,\n",
       "   'completion_tokens': 209},\n",
       "  'model': 'mistral-small-2402',\n",
       "  'finish_reason': 'tool_calls'},\n",
       " 'type': 'ai',\n",
       " 'name': None,\n",
       " 'id': 'run-e82148ea-880f-42d7-af03-77ed1543b3a0-0',\n",
       " 'example': False,\n",
       " 'tool_calls': [{'name': 'NewsInfo',\n",
       "   'args': {'title': 'Vessel Stuck in Baltimore Port Bridge Collapse to be Removed by 10 May',\n",
       "    'summary': 'The Dali containership, stuck in the bridge collapse at Baltimore Port since 26 March, will be removed by 10 May, according to officials. Although some ships have been able to navigate through a limited access channel, the 35ft deep Fort McHenry Limited Access Channel closed on 29 April, while three other temporary channels remain open. Maryland Governor Wes Moore highlighted the challenges faced by the clear-up team.',\n",
       "    'impact': 'Yes',\n",
       "    'reasoning': 'The bridge collapse and the stuck vessel directly impact the supply chain network by causing facility damage and limiting the movement of goods through the port. The closure of the 35ft deep channel further exacerbates the situation by restricting the access of larger vessels.',\n",
       "    'vessel_name': ['Dali']},\n",
       "   'id': 'YzLW7zt5d'}],\n",
       " 'invalid_tool_calls': []}"
      ]
     },
     "execution_count": 107,
     "metadata": {},
     "output_type": "execute_result"
    }
   ],
   "source": [
    "chain = chat_prompt | mistral_llm_with_tools\n",
    "mistral_llm_response = chain.invoke({\"user_input\": sample_text})\n",
    "mistral_llm_response.__dict__"
   ]
  },
  {
   "cell_type": "code",
   "execution_count": 108,
   "metadata": {},
   "outputs": [
    {
     "data": {
      "text/plain": [
       "{'title': 'Vessel Stuck in Baltimore Port Bridge Collapse to be Removed by 10 May',\n",
       " 'summary': 'The Dali containership, stuck in the bridge collapse at Baltimore Port since 26 March, will be removed by 10 May, according to officials. Although some ships have been able to navigate through a limited access channel, the 35ft deep Fort McHenry Limited Access Channel closed on 29 April, while three other temporary channels remain open. Maryland Governor Wes Moore highlighted the challenges faced by the clear-up team.',\n",
       " 'impact': 'Yes',\n",
       " 'reasoning': 'The bridge collapse and the stuck vessel directly impact the supply chain network by causing facility damage and limiting the movement of goods through the port. The closure of the 35ft deep channel further exacerbates the situation by restricting the access of larger vessels.',\n",
       " 'vessel_name': ['Dali']}"
      ]
     },
     "execution_count": 108,
     "metadata": {},
     "output_type": "execute_result"
    }
   ],
   "source": [
    "mistral_llm_response.tool_calls[0]['args']"
   ]
  },
  {
   "cell_type": "markdown",
   "metadata": {},
   "source": [
    "## 2. JSON-based Instruction Prompting"
   ]
  },
  {
   "cell_type": "markdown",
   "metadata": {},
   "source": [
    "- For LLMs that do not have native tool-binding support, we can try forcing the LLM to respond to the schema by using the `PydanticOutputParser` class and its `.get_format_instructions()` method.\n",
    "- This method generates an instruction prompt for the language model on how to format its output so that it conforms to the structure defined by the Pydantic model\n",
    "- As this is an additional prompt that will be sent to the LLM, it is not strictly considered as a tool-calling method. You will see later that the LLM response reflects this key difference from the previous native tool-calling approach.\n",
    "- If you compare the prompt_tokens field from the tool-calling method and this method, this method adds significantly to the token count. However, I'm not sure how to accurately attribute this difference by checking the total request sent"
   ]
  },
  {
   "cell_type": "code",
   "execution_count": 6,
   "metadata": {},
   "outputs": [],
   "source": [
    "# create a PydanticOutputParser object with the schema, this will be used to generate the format instructions, passed to the LLM prompt\n",
    "from langchain_core.output_parsers.pydantic import PydanticOutputParser\n",
    "from langchain_core.output_parsers import JsonOutputParser\n",
    "\n",
    "\n",
    "# translate the Pydantic schema to an output instruction for the LLM\n",
    "pydantic_parser = PydanticOutputParser(pydantic_object=NewsInfo)\n",
    "format_instructions = pydantic_parser.get_format_instructions()\n",
    "\n",
    "# create the prompt with the format instructions\n",
    "INSTRUCTION_PROMPT_TEMPLATE = \"\"\"\n",
    "You are an expert extraction algorithm, specialized in news analysis. Only extract relevant information from the text.\n",
    "{format_instructions}\n",
    "\n",
    "news article content:\n",
    "{news_content}\n",
    "\"\"\"\n",
    "instruction_prompt = PromptTemplate.from_template(INSTRUCTION_PROMPT_TEMPLATE)"
   ]
  },
  {
   "cell_type": "code",
   "execution_count": 7,
   "metadata": {},
   "outputs": [],
   "source": [
    "llm = ChatOpenAI(model=\"gpt-3.5-turbo-0125\", temperature=0)\n",
    "chain = instruction_prompt | llm\n",
    "llm_response  = chain.invoke({'format_instructions' : format_instructions, 'news_content': sample_text})"
   ]
  },
  {
   "cell_type": "code",
   "execution_count": 8,
   "metadata": {},
   "outputs": [
    {
     "name": "stdout",
     "output_type": "stream",
     "text": [
      "{'title': 'Bridge collapse at Baltimore Port in the US', 'summary': 'Officials are planning to remove the Dali containership that remains lodged among debris at Baltimore Port by 10 May. Some ships have been able to navigate through a limited access channel opened by the coastguard, but the Dali vessel has been stuck since the incident on 26 March.', 'impact': 'Yes', 'reasoning': 'The bridge collapse and the lodged vessel are directly impacting the supply chain network at Baltimore Port, causing disruptions and difficulties for ships navigating in and out of the port.', 'vessel_name': ['Dali']}\n"
     ]
    },
    {
     "data": {
      "text/plain": [
       "{'content': '{\\n  \"title\": \"Bridge collapse at Baltimore Port in the US\",\\n  \"summary\": \"Officials are planning to remove the Dali containership that remains lodged among debris at Baltimore Port by 10 May. Some ships have been able to navigate through a limited access channel opened by the coastguard, but the Dali vessel has been stuck since the incident on 26 March.\",\\n  \"impact\": \"Yes\",\\n  \"reasoning\": \"The bridge collapse and the lodged vessel are directly impacting the supply chain network at Baltimore Port, causing disruptions and difficulties for ships navigating in and out of the port.\",\\n  \"vessel_name\": [\"Dali\"]\\n}',\n",
       " 'additional_kwargs': {},\n",
       " 'response_metadata': {'token_usage': {'completion_tokens': 133,\n",
       "   'prompt_tokens': 723,\n",
       "   'total_tokens': 856},\n",
       "  'model_name': 'gpt-3.5-turbo-0125',\n",
       "  'system_fingerprint': None,\n",
       "  'finish_reason': 'stop',\n",
       "  'logprobs': None},\n",
       " 'type': 'ai',\n",
       " 'name': None,\n",
       " 'id': 'run-e4b697a6-61cb-4301-881b-4ae56d24bbc4-0',\n",
       " 'example': False,\n",
       " 'tool_calls': [],\n",
       " 'invalid_tool_calls': [],\n",
       " 'usage_metadata': None}"
      ]
     },
     "execution_count": 8,
     "metadata": {},
     "output_type": "execute_result"
    }
   ],
   "source": [
    "# you can see that the output is in the correct format\n",
    "# but it is in the content field, instead of the tool_call field\n",
    "# this is because the LLM API treats the request we sent as a single prompt, not a tool call\n",
    "print(pydantic_parser.parse(llm_response.content).dict())\n",
    "llm_response.__dict__"
   ]
  },
  {
   "cell_type": "code",
   "execution_count": 9,
   "metadata": {},
   "outputs": [
    {
     "name": "stdout",
     "output_type": "stream",
     "text": [
      "Tokens from the instruction: 493\n"
     ]
    }
   ],
   "source": [
    "# Looking at the tokens used for instruction, it is higher than the tokens used for tool\n",
    "# this is because pydantic needed to add other instructions to the prompt to guide the LLM\n",
    "# while previously, the LLM was sonfigured to use the tool without this additional instruction\n",
    "# thus the tokens were lower\n",
    "print(f\"Tokens from the instruction: {llm.get_num_tokens(format_instructions)}\")\n",
    "\n",
    "# rough token conciliation below. The difference in tokens is not 100% reconciled because I'm not sure how the tokens are counted\n",
    "# but it gives a rough idea how the tokens are used in the prompt and the tool call\n",
    "\n",
    "# previous case:\n",
    "# Total prompt tokens = 527\n",
    "# Tokens from the tool call = 358\n",
    "\n",
    "# current case:\n",
    "# Total prompt tokens = 723\n",
    "# Tokens from the tool call = 493\n",
    "\n",
    "# difference from Total prompt tokens = 723 - 527 = 196\n",
    "# difference from Tokens from the tool call = 493 - 358 = 135"
   ]
  },
  {
   "cell_type": "code",
   "execution_count": 10,
   "metadata": {},
   "outputs": [],
   "source": [
    "# try again with Mistral:\n",
    "mistral_llm = ChatMistralAI(model=\"mistral-small-2402\")\n",
    "chain = instruction_prompt | mistral_llm\n",
    "llm_response  = chain.invoke({'format_instructions' : format_instructions, 'news_content': sample_text})"
   ]
  },
  {
   "cell_type": "code",
   "execution_count": 11,
   "metadata": {},
   "outputs": [
    {
     "name": "stdout",
     "output_type": "stream",
     "text": [
      "{'title': 'Dali containership to be removed from Baltimore Port bridge collapse site by 10 May', 'summary': 'The Dali containership, which has been stuck at the site of the bridge collapse at Baltimore Port since 26 March, is set to be removed by 10 May. While some ships have been able to navigate through a limited access channel, the full channel closure has caused disruptions. Maryland Governor Wes Moore has acknowledged the challenges faced by the clear-up team.', 'impact': 'Yes', 'reasoning': 'The bridge collapse and the subsequent lodging of the Dali containership have directly impacted the supply chain network by causing facility damage and disrupting the normal operations at Baltimore Port. The closure of the full access channel has limited the movement of goods and vessels, causing delays and disruptions.', 'vessel_name': ['Dali']}\n"
     ]
    },
    {
     "data": {
      "text/plain": [
       "{'content': '{\\n  \"title\": \"Dali containership to be removed from Baltimore Port bridge collapse site by 10 May\",\\n  \"summary\": \"The Dali containership, which has been stuck at the site of the bridge collapse at Baltimore Port since 26 March, is set to be removed by 10 May. While some ships have been able to navigate through a limited access channel, the full channel closure has caused disruptions. Maryland Governor Wes Moore has acknowledged the challenges faced by the clear-up team.\",\\n  \"impact\": \"Yes\",\\n  \"reasoning\": \"The bridge collapse and the subsequent lodging of the Dali containership have directly impacted the supply chain network by causing facility damage and disrupting the normal operations at Baltimore Port. The closure of the full access channel has limited the movement of goods and vessels, causing delays and disruptions.\",\\n  \"vessel_name\": [\"Dali\"]\\n}',\n",
       " 'additional_kwargs': {},\n",
       " 'response_metadata': {'token_usage': {'prompt_tokens': 785,\n",
       "   'total_tokens': 985,\n",
       "   'completion_tokens': 200},\n",
       "  'model': 'mistral-small-2402',\n",
       "  'finish_reason': 'stop'},\n",
       " 'type': 'ai',\n",
       " 'name': None,\n",
       " 'id': 'run-b7cbf465-e07a-4465-976b-09523005a0a4-0',\n",
       " 'example': False,\n",
       " 'tool_calls': [],\n",
       " 'invalid_tool_calls': [],\n",
       " 'usage_metadata': None}"
      ]
     },
     "execution_count": 11,
     "metadata": {},
     "output_type": "execute_result"
    }
   ],
   "source": [
    "# the parsed data again is in the content field, instead of the tool_call field\n",
    "print(pydantic_parser.parse(llm_response.content).dict())\n",
    "llm_response.__dict__"
   ]
  },
  {
   "cell_type": "code",
   "execution_count": 12,
   "metadata": {},
   "outputs": [
    {
     "name": "stdout",
     "output_type": "stream",
     "text": [
      "{'title': 'Bridge collapse at Baltimore Port impacting vessel traffic', 'summary': 'The collapse of a bridge at Baltimore Port in the US has resulted in a vessel, the Dali containership, being lodged amidst debris. Officals have planned to remove the vessel by 10 May, but the closure of a deep channel has caused some disruptions. Maryland Governor Wes Moore has acknowledged the challenges faced in clearing the bridge and vessel.', 'impact': 'Yes', 'reasoning': 'The bridge collapse at Baltimore Port has caused a vessel to become lodged, disrupting normal shipping operations. The closure of a deep channel for four days has further impacted shipping, as it allowed only one container ship to return to the port. Maryland Governor Wes Moore has acknowledged the difficulties faced in clearing the bridge debris and vessel, indicating a potential ongoing impact.', 'vessel_name': ['Dali containership']}\n"
     ]
    },
    {
     "data": {
      "text/plain": [
       "{'content': '```\\n{\\n  \"title\": \"Bridge collapse at Baltimore Port impacting vessel traffic\",\\n  \"summary\": \"The collapse of a bridge at Baltimore Port in the US has resulted in a vessel, the Dali containership, being lodged amidst debris. Officals have planned to remove the vessel by 10 May, but the closure of a deep channel has caused some disruptions. Maryland Governor Wes Moore has acknowledged the challenges faced in clearing the bridge and vessel.\",\\n  \"impact\": \"Yes\",\\n  \"reasoning\": \"The bridge collapse at Baltimore Port has caused a vessel to become lodged, disrupting normal shipping operations. The closure of a deep channel for four days has further impacted shipping, as it allowed only one container ship to return to the port. Maryland Governor Wes Moore has acknowledged the difficulties faced in clearing the bridge debris and vessel, indicating a potential ongoing impact.\",\\n  \"vessel_name\": [\"Dali containership\"]\\n}\\n```',\n",
       " 'additional_kwargs': {},\n",
       " 'response_metadata': {'token_usage': {'prompt_tokens': 785,\n",
       "   'total_tokens': 993,\n",
       "   'completion_tokens': 208},\n",
       "  'model': 'open-mistral-7b',\n",
       "  'finish_reason': 'stop'},\n",
       " 'type': 'ai',\n",
       " 'name': None,\n",
       " 'id': 'run-ec709447-ce0f-49f4-91d6-3f7d285abe55-0',\n",
       " 'example': False,\n",
       " 'tool_calls': [],\n",
       " 'invalid_tool_calls': [],\n",
       " 'usage_metadata': None}"
      ]
     },
     "execution_count": 12,
     "metadata": {},
     "output_type": "execute_result"
    }
   ],
   "source": [
    "# try again with Mistral 7b\n",
    "mistral_llm = ChatMistralAI(model=\"open-mistral-7b\")\n",
    "chain = instruction_prompt | mistral_llm\n",
    "llm_response  = chain.invoke({'format_instructions' : format_instructions, 'news_content': sample_text})\n",
    "print(pydantic_parser.parse(llm_response.content).dict())\n",
    "llm_response.__dict__"
   ]
  },
  {
   "cell_type": "code",
   "execution_count": 13,
   "metadata": {},
   "outputs": [],
   "source": [
    "# try again with snowflake-hosted LLM:\n",
    "# the snowflake LLM response is not the AIMessage object but a string with the parsed data and other metadata\n",
    "# so we use JsonOutputParser to parse the response for easy access to the parsed data\n",
    "llm = SnowflakeCortexLLM(sp_session = sp_session, model='mistral-7b')\n",
    "chain = instruction_prompt | llm | JsonOutputParser()\n",
    "llm_response  = chain.invoke({'format_instructions' : format_instructions, 'news_content': sample_text})"
   ]
  },
  {
   "cell_type": "code",
   "execution_count": 14,
   "metadata": {},
   "outputs": [
    {
     "name": "stdout",
     "output_type": "stream",
     "text": [
      "{'title': 'Baltimore Port Bridge Collapse: Dali Containship Removal Delayed, Channel Closed', 'summary': 'The Dali containership, which collided with the Francis Scott Key Bridge at Baltimore Port in the US on 26 March, remains lodged among the debris and will not be removed until 10 May. A 35ft deep channel that had been open for four days, allowing the first container ship to return to the port, was closed on 29 April. Maryland Governor Wes Moore discussed the challenges faced by the team clearing the bridge debris and the vessel.', 'impact': 'Yes', 'reasoning': 'The bridge collapse at Baltimore Port has caused the Dali containership to remain lodged among the debris, preventing it from being removed until 10 May. The closure of the 35ft deep channel for repairs further disrupts the normal operations of the supply chain network by limiting the size and number of vessels that can access the port. These disruptions can potentially cause delays and increased costs for businesses and individuals reliant on the port for the movement of goods.', 'vessel_name': ['Dali']}\n"
     ]
    },
    {
     "data": {
      "text/plain": [
       "{'choices': [{'messages': ' {\\n\"title\": \"Baltimore Port Bridge Collapse: Dali Containship Removal Delayed, Channel Closed\",\\n\"summary\": \"The Dali containership, which collided with the Francis Scott Key Bridge at Baltimore Port in the US on 26 March, remains lodged among the debris and will not be removed until 10 May. A 35ft deep channel that had been open for four days, allowing the first container ship to return to the port, was closed on 29 April. Maryland Governor Wes Moore discussed the challenges faced by the team clearing the bridge debris and the vessel.\",\\n\"impact\": \"Yes\",\\n\"reasoning\": \"The bridge collapse at Baltimore Port has caused the Dali containership to remain lodged among the debris, preventing it from being removed until 10 May. The closure of the 35ft deep channel for repairs further disrupts the normal operations of the supply chain network by limiting the size and number of vessels that can access the port. These disruptions can potentially cause delays and increased costs for businesses and individuals reliant on the port for the movement of goods.\",\\n\"vessel_name\": [\"Dali\"]\\n}'}],\n",
       " 'created': 1718298083,\n",
       " 'model': 'mistral-7b',\n",
       " 'usage': {'completion_tokens': 256,\n",
       "  'prompt_tokens': 791,\n",
       "  'total_tokens': 1047}}"
      ]
     },
     "execution_count": 14,
     "metadata": {},
     "output_type": "execute_result"
    }
   ],
   "source": [
    "result = llm_response['choices'][0]['messages']\n",
    "print(pydantic_parser.parse(result).dict())\n",
    "llm_response"
   ]
  },
  {
   "cell_type": "markdown",
   "metadata": {},
   "source": [
    "## 3. For Custom LLM without tool binding support"
   ]
  },
  {
   "cell_type": "markdown",
   "metadata": {},
   "source": [
    "- This is not an \"official\" method to invoke tool-calling API of a LLM behind the scene.\n",
    "- When tried with the original pydantic model, the results have missing key if the key is marked as Optional or with a default value inside the Pydantic model.\n",
    "- The behavior above is true for both Custom LLM derived from snowflake, and even for native OpenAI binding\n",
    "- Attempt to modify the original Pydantic schema worsened the situation even for OpenAI models using rendered_tools derived from its own bind_tools() function. \n",
    "- Maybe the `llm_with_tools.kwargs['tools'][0]['function']` method to get the parsed tool is not suitable to be passed back to OpenAI.\n",
    "- The behabior is similar when Snowflake models were tested.\n",
    "- Thus this is not purused further."
   ]
  },
  {
   "cell_type": "code",
   "execution_count": 100,
   "metadata": {},
   "outputs": [],
   "source": [
    "# use OpenAI class to act as a helper to render the tools from the Pydantic schema\n",
    "llm = ChatOpenAI(model=\"gpt-3.5-turbo-0125\", temperature=0)\n",
    "tools = [NewsInfo]\n",
    "llm_with_tools = llm.bind_tools(tools)\n",
    "rendered_tools = llm_with_tools.kwargs['tools'][0]['function']\n",
    "\n",
    "# remove/escape any single quotes from the rendered tools and the sample text\n",
    "# as they will interfere with the Snowflake SQL statement\n",
    "rendered_tools_json = json.dumps(rendered_tools)\n",
    "sample_text_cleaned = sample_text.replace(\"'\", \"\\\\'\")"
   ]
  },
  {
   "cell_type": "code",
   "execution_count": null,
   "metadata": {},
   "outputs": [],
   "source": []
  },
  {
   "cell_type": "code",
   "execution_count": 86,
   "metadata": {},
   "outputs": [],
   "source": [
    "from langchain_core.prompts import ChatPromptTemplate\n",
    "\n",
    "# note that the prompt must also be free from single quotes\n",
    "chat_prompt = ChatPromptTemplate.from_messages(\n",
    "    [\n",
    "        (\n",
    "            \"system\",\n",
    "            \"You are an expert extraction algorithm, specialized in news analysis.\"\n",
    "            \"You have access to the following set of tools: {rendered_tools}\"\n",
    "        ),\n",
    "        (\"human\", \"{user_input}\"),\n",
    "    ]\n",
    ")\n"
   ]
  },
  {
   "cell_type": "code",
   "execution_count": 107,
   "metadata": {},
   "outputs": [
    {
     "data": {
      "text/plain": [
       "{'choices': [{'messages': ' {\\n  \"title\": \"Maryland\\'s Baltimore Port: Dali Containship Remains Lodged Among Bridge Debris, Affecting Navigation and Closing Access Channels\",\\n  \"summary\": \"The Dali containership has been stuck at the Baltimore Port in the US since colliding with the Francis Scott Key Bridge on 26 March. The incident caused the closure of a 35ft deep access channel, affecting the navigation of larger vessels. The channel reopened briefly to allow one ship to pass, but was closed again on 29 April. The removal of the Dali vessel is planned for 10 May, but the incident has caused difficulties for the clear-up team, as mentioned by Maryland Governor Wes Moore.\",\\n  \"impact\": \"Yes\",\\n  \"reasoning\": \"The bridge collapse and the subsequent lodging of the Dali containership in the debris have directly impacted the supply chain network at the Baltimore Port by closing a major access channel for larger vessels. The closure has prevented these vessels from entering or leaving the port, causing potential delays and disruptions to the movement of goods. The incident also required the closure of a 35ft deep access channel for four days, which further impacted the port\\'s operations. The removal of the ship, planned for 10 May, may help alleviate some of these issues, but the incident has already caused significant disruptions to the supply chain network.\"\\n}'}],\n",
       " 'created': 1718165923,\n",
       " 'model': 'mistral-7b',\n",
       " 'usage': {'completion_tokens': 312,\n",
       "  'prompt_tokens': 633,\n",
       "  'total_tokens': 945}}"
      ]
     },
     "execution_count": 107,
     "metadata": {},
     "output_type": "execute_result"
    }
   ],
   "source": [
    "sf_llm = SnowflakeCortexLLM(sp_session=sp_session, model='mistral-7b')\n",
    "chain = chat_prompt | sf_llm | JsonOutputParser() # better than StrOutputParser() for JSON output\n",
    "llm_response = chain.invoke({\"rendered_tools\":rendered_tools_json, \"user_input\": sample_text_cleaned})\n",
    "llm_response"
   ]
  },
  {
   "cell_type": "code",
   "execution_count": 111,
   "metadata": {},
   "outputs": [
    {
     "data": {
      "text/plain": [
       "{'title': \"Maryland's Baltimore Port: Dali Containship Remains Lodged Among Bridge Debris, Affecting Navigation and Closing Access Channels\",\n",
       " 'summary': 'The Dali containership has been stuck at the Baltimore Port in the US since colliding with the Francis Scott Key Bridge on 26 March. The incident caused the closure of a 35ft deep access channel, affecting the navigation of larger vessels. The channel reopened briefly to allow one ship to pass, but was closed again on 29 April. The removal of the Dali vessel is planned for 10 May, but the incident has caused difficulties for the clear-up team, as mentioned by Maryland Governor Wes Moore.',\n",
       " 'impact': 'Yes',\n",
       " 'reasoning': \"The bridge collapse and the subsequent lodging of the Dali containership in the debris have directly impacted the supply chain network at the Baltimore Port by closing a major access channel for larger vessels. The closure has prevented these vessels from entering or leaving the port, causing potential delays and disruptions to the movement of goods. The incident also required the closure of a 35ft deep access channel for four days, which further impacted the port's operations. The removal of the ship, planned for 10 May, may help alleviate some of these issues, but the incident has already caused significant disruptions to the supply chain network.\"}"
      ]
     },
     "execution_count": 111,
     "metadata": {},
     "output_type": "execute_result"
    }
   ],
   "source": [
    "eval(llm_response['choices'][0]['messages'])"
   ]
  },
  {
   "cell_type": "code",
   "execution_count": 114,
   "metadata": {},
   "outputs": [
    {
     "data": {
      "text/plain": [
       "{'choices': [{'messages': ' NewsInfo:\\n{\\n  \"title\": \"Bulk carrier CRISTIN HT suffers engine failure, towed to Aliaga, Turkey; General Average Salvage possible\",\\n  \"summary\": \"The Bulk carrier CRISTIN HT (IMO:9455985) experienced an engine failure approximately 43 nautical miles southeast of Syracuse, Italy, on 15 May 2024. Unable to complete repairs, the vessel was taken under tow to Aliaga, Turkey. This incident raises the possibility of General Average Salvage and associated recovery issues.\",\\n  \"impact\": \"Yes\",\\n  \"reasoning\": \"The engine failure and subsequent towing of the CRISTIN HT directly impact the vessel\\'s ability to transport goods, causing a disruption in the supply chain network. This event may lead to financial losses, delays, and potential cargo damage, affecting the stakeholders involved.\",\\n  \"vessel_name\": [\"CRISTIN HT\"]\\n}'}],\n",
       " 'created': 1718166230,\n",
       " 'model': 'mixtral-8x7b',\n",
       " 'usage': {'completion_tokens': 219,\n",
       "  'prompt_tokens': 567,\n",
       "  'total_tokens': 786}}"
      ]
     },
     "execution_count": 114,
     "metadata": {},
     "output_type": "execute_result"
    }
   ],
   "source": [
    "sf_llm = SnowflakeCortexLLM(sp_session=sp_session, model='mixtral-8x7b')\n",
    "chain = chat_prompt | sf_llm | JsonOutputParser() # better than StrOutputParser() for JSON output\n",
    "llm_response = chain.invoke({\"rendered_tools\":rendered_tools_json, \"user_input\": body_cleaned[-1]})\n",
    "llm_response"
   ]
  },
  {
   "cell_type": "code",
   "execution_count": 116,
   "metadata": {},
   "outputs": [
    {
     "data": {
      "text/plain": [
       "{'title': 'Bulk carrier CRISTIN HT suffers engine failure near Syracuse, Italy and is towed to Aliaga, Turkey',\n",
       " 'summary': 'Bulk carrier CRISTIN HT (IMO:9455985) experienced an engine failure approximately 43 nautical miles southeast of Syracuse, Italy on 15 May 2024. The crew was unable to repair the issue, leading to the vessel being towed to Aliaga, Turkey. General Average Salvage and associated Recovery issues may arise from this incident, prompting a call for concerned parties to protect their interests.',\n",
       " 'impact': 'Yes',\n",
       " 'reasoning': 'The engine failure of the bulk carrier CRISTIN HT and its subsequent tow to Aliaga, Turkey can disrupt the normal operations of the supply chain network. The potential General Average Salvage and Recovery issues could further impact the movement of goods and vessels in the area, making this event a negative impact on the supply chain network.'}"
      ]
     },
     "execution_count": 116,
     "metadata": {},
     "output_type": "execute_result"
    }
   ],
   "source": [
    "llm = ChatOpenAI(model=\"gpt-3.5-turbo-0125\", temperature=0)\n",
    "chain = chat_prompt | llm | JsonOutputParser()\n",
    "llm_response = chain.invoke({\"rendered_tools\":rendered_tools_json, \"user_input\": body_cleaned[-1]})\n",
    "llm_response"
   ]
  },
  {
   "cell_type": "code",
   "execution_count": null,
   "metadata": {},
   "outputs": [],
   "source": []
  },
  {
   "cell_type": "code",
   "execution_count": 123,
   "metadata": {},
   "outputs": [],
   "source": [
    "class NewsInfoV2(BaseModel):\n",
    "    \"\"\"Information extracted from the text.\"\"\"\n",
    "    title: str = Field(\n",
    "        description=\"One sentence summary of the article of maximum 200 characters, prefereably with the event, location and time information.\"\n",
    "    )\n",
    "    summary: str = Field(\n",
    "        description=\"A short summary of the text, maximum 200 words\"\n",
    "    )\n",
    "    impact: str = Field( \n",
    "        description=\"Answer only Yes or No to this question: does this event negatively impact a supply chain network (the movement of people and goods)? Answer this by following the following reasoning steps: \\\n",
    "            If the event can directly impact a supply chain network in a negative way, such as causing facility damage or traffic stopage, etc., then Yes. \\\n",
    "            Else if it can potentially disrupt the normal operations a supply chain network, such as social-political disruptions, extreme weathers, or other disruptions, etc., then asnwer Yes. \\\n",
    "            If not or uncertain, such as general knowledge, good news, individual personnel events, project annoucement etc., answer No\",\n",
    "        enum=[\"Yes\", \"No\"]\n",
    "    )\n",
    "    reasoning: str = Field( \n",
    "        description=\"The reasoning behind your impact assessment based on the impact reasoning step above. Explain why you think the event will (Yes) or will not (No) impact the supply chain network.\"\n",
    "    )\n",
    "    vessel_name: list[str] = Field(\n",
    "        description=\"The names of the marine vessels or container ships mentioned in the text, if any.\"\n",
    "    )\n",
    "\n",
    "llm = ChatOpenAI(model=\"gpt-3.5-turbo-0125\", temperature=0)\n",
    "tools = [NewsInfoV2]\n",
    "llm_with_tools = llm.bind_tools(tools)\n",
    "rendered_tools = llm_with_tools.kwargs['tools'][0]['function']\n",
    "rendered_tools_json = json.dumps(rendered_tools)"
   ]
  },
  {
   "cell_type": "code",
   "execution_count": 124,
   "metadata": {},
   "outputs": [
    {
     "data": {
      "text/plain": [
       "'{\"name\": \"NewsInfoV2\", \"description\": \"Information extracted from the text.\", \"parameters\": {\"type\": \"object\", \"properties\": {\"title\": {\"description\": \"One sentence summary of the article of maximum 200 characters, prefereably with the event, location and time information.\", \"type\": \"string\"}, \"summary\": {\"description\": \"A short summary of the text, maximum 200 words\", \"type\": \"string\"}, \"impact\": {\"description\": \"Answer only Yes or No to this question: does this event negatively impact a supply chain network (the movement of people and goods)? Answer this by following the following reasoning steps:             If the event can directly impact a supply chain network in a negative way, such as causing facility damage or traffic stopage, etc., then Yes.             Else if it can potentially disrupt the normal operations a supply chain network, such as social-political disruptions, extreme weathers, or other disruptions, etc., then asnwer Yes.             If not or uncertain, such as general knowledge, good news, individual personnel events, project annoucement etc., answer No\", \"enum\": [\"Yes\", \"No\"], \"type\": \"string\"}, \"reasoning\": {\"description\": \"The reasoning behind your impact assessment based on the impact reasoning step above. Explain why you think the event will (Yes) or will not (No) impact the supply chain network.\", \"type\": \"string\"}, \"vessel_name\": {\"description\": \"The names of the marine vessels or container ships mentioned in the text, if any.\", \"type\": \"array\", \"items\": {\"type\": \"string\"}}}, \"required\": [\"title\", \"summary\", \"impact\", \"reasoning\", \"vessel_name\"]}}'"
      ]
     },
     "execution_count": 124,
     "metadata": {},
     "output_type": "execute_result"
    }
   ],
   "source": [
    "rendered_tools_json"
   ]
  },
  {
   "cell_type": "code",
   "execution_count": 130,
   "metadata": {},
   "outputs": [
    {
     "data": {
      "text/plain": [
       "{'name': 'NewsInfoV2',\n",
       " 'description': 'Information extracted from the text.',\n",
       " 'parameters': {'type': 'object',\n",
       "  'properties': {'title': {'description': 'Bulk carrier CRISTIN HT suffers engine failure near Syracuse, Italy and is towed to Aliaga, Turkey',\n",
       "    'type': 'string'},\n",
       "   'summary': {'description': 'Bulk carrier CRISTIN HT experienced an engine failure near Syracuse, Italy and was towed to Aliaga, Turkey. General Average Salvage and Recovery issues may arise.',\n",
       "    'type': 'string'},\n",
       "   'impact': {'description': 'Yes', 'enum': ['Yes', 'No'], 'type': 'string'},\n",
       "   'reasoning': {'description': 'The engine failure and towing of the vessel can disrupt the normal operations of the supply chain network, potentially leading to delays and additional costs. General Average Salvage and Recovery issues may further impact the cargo owners and stakeholders.',\n",
       "    'type': 'string'},\n",
       "   'vessel_name': {'description': ['CRISTIN HT'],\n",
       "    'type': 'array',\n",
       "    'items': {'type': 'string'}}},\n",
       "  'required': ['title', 'summary', 'impact', 'reasoning', 'vessel_name']}}"
      ]
     },
     "execution_count": 130,
     "metadata": {},
     "output_type": "execute_result"
    }
   ],
   "source": [
    "# however, the Snowflake Cortex LLM and the OpenAI LLM were not able to parse the optional field correctlye\n",
    "llm = ChatOpenAI(model=\"gpt-3.5-turbo-0125\", temperature=0)\n",
    "chain = chat_prompt | llm | JsonOutputParser()\n",
    "llm_response = chain.invoke({\"rendered_tools\":rendered_tools_json, \"user_input\": body_cleaned[-1]})\n",
    "llm_response"
   ]
  },
  {
   "cell_type": "markdown",
   "metadata": {},
   "source": [
    "### 2. With Pydantic formatted instructions"
   ]
  },
  {
   "cell_type": "code",
   "execution_count": 146,
   "metadata": {},
   "outputs": [],
   "source": [
    "pydantic_parser = PydanticOutputParser(pydantic_object=NewsInfo)\n",
    "format_instructions = pydantic_parser.get_format_instructions()"
   ]
  },
  {
   "cell_type": "code",
   "execution_count": 147,
   "metadata": {},
   "outputs": [
    {
     "name": "stdout",
     "output_type": "stream",
     "text": [
      "The output should be formatted as a JSON instance that conforms to the JSON schema below.\n",
      "\n",
      "As an example, for the schema {\"properties\": {\"foo\": {\"title\": \"Foo\", \"description\": \"a list of strings\", \"type\": \"array\", \"items\": {\"type\": \"string\"}}}, \"required\": [\"foo\"]}\n",
      "the object {\"foo\": [\"bar\", \"baz\"]} is a well-formatted instance of the schema. The object {\"properties\": {\"foo\": [\"bar\", \"baz\"]}} is not well-formatted.\n",
      "\n",
      "Here is the output schema:\n",
      "```\n",
      "{\"description\": \"Information extracted from the text.\", \"properties\": {\"title\": {\"title\": \"Title\", \"description\": \"One sentence summary of the article of maximum 200 characters, prefereably with the event, location and time information.\", \"type\": \"string\"}, \"summary\": {\"title\": \"Summary\", \"description\": \"A short summary of the text, maximum 200 words\", \"type\": \"string\"}, \"impact\": {\"title\": \"Impact\", \"description\": \"Answer only Yes or No to this question: does this event negatively impact a supply chain network (the movement of people and goods)? Answer this by following the following reasoning steps:             If the event can directly impact a supply chain network in a negative way, such as causing facility damage or traffic stopage, etc., then Yes.             Else if it can potentially disrupt the normal operations a supply chain network, such as social-political disruptions, extreme weathers, or other disruptions, etc., then asnwer Yes.             If not or uncertain, such as general knowledge, good news, individual personnel events, project annoucement etc., answer No\", \"enum\": [\"Yes\", \"No\"], \"type\": \"string\"}, \"reasoning\": {\"title\": \"Reasoning\", \"description\": \"The reasoning behind your impact assessment based on the impact reasoning step above. Explain why you think the event will (Yes) or will not (No) impact the supply chain network.\", \"type\": \"string\"}, \"vessel_name\": {\"title\": \"Vessel Name\", \"description\": \"The names of the marine vessels or container ships mentioned in the text, if any.\", \"default\": [\"\"], \"type\": \"array\", \"items\": {\"type\": \"string\"}}}, \"required\": [\"title\", \"summary\", \"impact\", \"reasoning\"]}\n",
      "```\n"
     ]
    }
   ],
   "source": [
    "# the format_instructions is just a string that contains the Pydantic schema pasrsed to JSON, \n",
    "# with some other instructions and examples,\n",
    "# check the source code for more details\n",
    "print(format_instructions)"
   ]
  },
  {
   "cell_type": "code",
   "execution_count": 141,
   "metadata": {},
   "outputs": [],
   "source": [
    "prompt_instruct = PromptTemplate.from_template(PROMPT_TEMPLATE_INSTRUCT)\n",
    "sf_llm = SnowflakeCortexLLM(sp_session = sp_session, model='mistral-7b')\n",
    "chain = prompt_instruct | sf_llm | JsonOutputParser() "
   ]
  },
  {
   "cell_type": "code",
   "execution_count": 142,
   "metadata": {},
   "outputs": [],
   "source": [
    "llm_response  = chain.invoke({'format_instructions' : format_instructions, 'news_content': sample_text})"
   ]
  },
  {
   "cell_type": "code",
   "execution_count": 145,
   "metadata": {},
   "outputs": [
    {
     "data": {
      "text/plain": [
       "{'title': 'Baltimore Port Bridge Collapse: Dali Containship Removal Delayed, Channel Closed',\n",
       " 'summary': 'Officials have announced that the Dali containership, which collided with the Francis Scott Key Bridge at Baltimore Port in March, will be removed by 10 May. However, a deep access channel that had been open for four days, allowing the first container ship to return to the port, was closed on 29 April. Maryland Governor Wes Moore discussed the challenges faced by the team clearing the bridge debris and the vessel.',\n",
       " 'impact': 'Yes',\n",
       " 'reasoning': 'The bridge collapse at Baltimore Port has directly impacted the supply chain network by preventing the Dali containership from being removed, causing a closure of a deep access channel that had allowed the first container ship to return to the port. This disruption to the normal operations of the supply chain network is expected to continue until the Dali containership is removed and the channel is reopened.',\n",
       " 'vessel_name': ['Dali', 'Francis Scott Key Bridge']}"
      ]
     },
     "execution_count": 145,
     "metadata": {},
     "output_type": "execute_result"
    }
   ],
   "source": [
    "eval(llm_response['choices'][0]['messages'])"
   ]
  },
  {
   "cell_type": "code",
   "execution_count": 149,
   "metadata": {},
   "outputs": [
    {
     "data": {
      "text/plain": [
       "{'choices': [{'messages': ' {\\n\"title\": \"Baltimore Port Bridge Collapse: Dali Containship Removal Delayed, Channel Closed\",\\n\"summary\": \"Officials have announced that the Dali containership, which collided with the Francis Scott Key Bridge at Baltimore Port in March, will be removed by 10 May. However, a deep access channel that had been open for four days, allowing the first container ship to return to the port, was closed on 29 April. Maryland Governor Wes Moore discussed the challenges faced by the team clearing the bridge debris and the vessel.\",\\n\"impact\": \"Yes\",\\n\"reasoning\": \"The bridge collapse at Baltimore Port has directly impacted the supply chain network by preventing the Dali containership from being removed, causing a closure of a deep access channel that had allowed the first container ship to return to the port. This disruption to the normal operations of the supply chain network is expected to continue until the Dali containership is removed and the channel is reopened.\",\\n\"vessel_name\": [\"Dali\", \"Francis Scott Key Bridge\"]\\n}'}],\n",
       " 'created': 1718169203,\n",
       " 'model': 'mistral-7b',\n",
       " 'usage': {'completion_tokens': 237,\n",
       "  'prompt_tokens': 832,\n",
       "  'total_tokens': 1069}}"
      ]
     },
     "execution_count": 149,
     "metadata": {},
     "output_type": "execute_result"
    }
   ],
   "source": [
    "llm_response "
   ]
  }
 ],
 "metadata": {
  "kernelspec": {
   "display_name": "langchain-demo-env",
   "language": "python",
   "name": "python3"
  },
  "language_info": {
   "codemirror_mode": {
    "name": "ipython",
    "version": 3
   },
   "file_extension": ".py",
   "mimetype": "text/x-python",
   "name": "python",
   "nbconvert_exporter": "python",
   "pygments_lexer": "ipython3",
   "version": "3.11.7"
  }
 },
 "nbformat": 4,
 "nbformat_minor": 2
}
